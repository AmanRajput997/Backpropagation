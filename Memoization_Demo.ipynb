{
  "nbformat": 4,
  "nbformat_minor": 0,
  "metadata": {
    "colab": {
      "provenance": []
    },
    "kernelspec": {
      "name": "python3",
      "display_name": "Python 3"
    },
    "language_info": {
      "name": "python"
    }
  },
  "cells": [
    {
      "cell_type": "code",
      "execution_count": 8,
      "metadata": {
        "id": "E2Uk7c0dZKUC"
      },
      "outputs": [],
      "source": [
        "# fibonacci\n",
        "'''\n",
        "import time\n",
        "def fib(n):\n",
        "  if n == 1 or n == 0:\n",
        "    return 1\n",
        "  else:\n",
        "    return fib(n-1) + fib(n-2)'''"
      ]
    },
    {
      "cell_type": "code",
      "source": [
        "#fib(5)"
      ],
      "metadata": {
        "colab": {
          "base_uri": "https://localhost:8080/"
        },
        "id": "r9gBag1Ubc3r",
        "outputId": "0eaf75b3-7144-4bfd-939c-e4e58df0fbca"
      },
      "execution_count": 2,
      "outputs": [
        {
          "output_type": "execute_result",
          "data": {
            "text/plain": [
              "8"
            ]
          },
          "metadata": {},
          "execution_count": 2
        }
      ]
    },
    {
      "cell_type": "code",
      "source": [
        "#fib(10)"
      ],
      "metadata": {
        "colab": {
          "base_uri": "https://localhost:8080/"
        },
        "id": "fqOGczAEbjYh",
        "outputId": "b7d019a6-c195-4362-b27f-52adab1f455b"
      },
      "execution_count": 3,
      "outputs": [
        {
          "output_type": "execute_result",
          "data": {
            "text/plain": [
              "89"
            ]
          },
          "metadata": {},
          "execution_count": 3
        }
      ]
    },
    {
      "cell_type": "code",
      "source": [
        "#fib(12)"
      ],
      "metadata": {
        "colab": {
          "base_uri": "https://localhost:8080/"
        },
        "id": "Vbp3UETCbm9T",
        "outputId": "36221aad-22ed-47ab-e079-6e62f9ad5c9a"
      },
      "execution_count": 4,
      "outputs": [
        {
          "output_type": "execute_result",
          "data": {
            "text/plain": [
              "233"
            ]
          },
          "metadata": {},
          "execution_count": 4
        }
      ]
    },
    {
      "cell_type": "code",
      "source": [
        "#fib(36)"
      ],
      "metadata": {
        "colab": {
          "base_uri": "https://localhost:8080/"
        },
        "id": "JvBnRyMTbpXe",
        "outputId": "b7658581-3233-43b3-cb02-9e97fe96b4a3"
      },
      "execution_count": 5,
      "outputs": [
        {
          "output_type": "execute_result",
          "data": {
            "text/plain": [
              "24157817"
            ]
          },
          "metadata": {},
          "execution_count": 5
        }
      ]
    },
    {
      "cell_type": "code",
      "source": [
        "#fib(40)"
      ],
      "metadata": {
        "colab": {
          "base_uri": "https://localhost:8080/"
        },
        "id": "gtp2fD8zbt-Z",
        "outputId": "778443b0-f411-4987-9531-c4fffb1eaf29"
      },
      "execution_count": 6,
      "outputs": [
        {
          "output_type": "execute_result",
          "data": {
            "text/plain": [
              "165580141"
            ]
          },
          "metadata": {},
          "execution_count": 6
        }
      ]
    },
    {
      "cell_type": "code",
      "source": [
        "'''start = time.time()\n",
        "fib(38)\n",
        "print(time.time() - start)'''"
      ],
      "metadata": {
        "colab": {
          "base_uri": "https://localhost:8080/"
        },
        "id": "TbNJhMQdcLo6",
        "outputId": "b8e610b6-a8a2-4c36-ce0e-aca671929e25"
      },
      "execution_count": 10,
      "outputs": [
        {
          "output_type": "stream",
          "name": "stdout",
          "text": [
            "8.881829977035522\n"
          ]
        }
      ]
    },
    {
      "cell_type": "markdown",
      "source": [
        "As we can see that calculating fib(38) takes a lot of time."
      ],
      "metadata": {
        "id": "zYGMS3erfad1"
      }
    },
    {
      "cell_type": "markdown",
      "source": [
        "**Memoization** : In computing, memoization or memoisation isan otimization technique used primarily to speed up computer programs by storing the results ofexpensive function callsand returning the cached result when the same inputs occur again."
      ],
      "metadata": {
        "id": "hdQPY9mheR8b"
      }
    },
    {
      "cell_type": "markdown",
      "source": [
        "Memoization is used in Backpropagation when hidden layers are more than 1, the formulation to calculate gradient get dificult at each level.\n",
        "Backpropagation = chain differentiation + Memoization\n",
        "                        ^                    ^\n",
        "                        |                    |\n",
        "                      (maths)            (computer science)\n",
        "--> Both the concept of backpropagation is been stored in keras libraries"
      ],
      "metadata": {
        "id": "zumM_qfPgpqm"
      }
    },
    {
      "cell_type": "code",
      "source": [
        "import time\n",
        "def fib(n,d):\n",
        "  if n in d:\n",
        "    return d[n]\n",
        "  else:\n",
        "    d[n] = fib(n-1,d) + fib(n-2,d)\n",
        "    return d[n]"
      ],
      "metadata": {
        "id": "hl1H12hOeJUJ"
      },
      "execution_count": 15,
      "outputs": []
    },
    {
      "cell_type": "code",
      "source": [
        "# Applying Memoization concept\n",
        "start = time.time()\n",
        "d ={0:1,1:1}\n",
        "#fib(38,d)\n",
        "fib(100,d)\n",
        "print(time.time() - start)\n"
      ],
      "metadata": {
        "colab": {
          "base_uri": "https://localhost:8080/"
        },
        "id": "SKutoVl-czgR",
        "outputId": "a0c4fc0d-0dfc-46d0-cf4a-f557bb8c5bf5"
      },
      "execution_count": 14,
      "outputs": [
        {
          "output_type": "stream",
          "name": "stdout",
          "text": [
            "0.00019407272338867188\n"
          ]
        }
      ]
    }
  ]
}